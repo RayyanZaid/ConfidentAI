{
 "cells": [
  {
   "cell_type": "code",
   "execution_count": null,
   "id": "45f64c51",
   "metadata": {},
   "outputs": [],
   "source": [
    "x=4\n"
   ]
  }
 ],
 "metadata": {
  "language_info": {
   "name": "python"
  }
 },
 "nbformat": 4,
 "nbformat_minor": 5
}
